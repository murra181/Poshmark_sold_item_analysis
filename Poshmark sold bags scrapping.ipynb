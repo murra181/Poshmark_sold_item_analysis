{
 "cells": [
  {
   "cell_type": "code",
   "execution_count": 1,
   "metadata": {},
   "outputs": [],
   "source": [
    "import requests\n",
    "from bs4 import BeautifulSoup\n",
    "import pandas as pd\n",
    "url = 'https://poshmark.com/category/Women-Bags?availability=sold_out&condition=nwt_and_ret'\n",
    "soup = BeautifulSoup(requests.get(url).text)\n",
    "\n",
    "\n",
    "sold_bags = soup.findAll('div', {'class':\"tile col-x12 col-l6 col-s8 p--2\"})"
   ]
  },
  {
   "cell_type": "code",
   "execution_count": 2,
   "metadata": {},
   "outputs": [
    {
     "data": {
      "text/plain": [
       "48"
      ]
     },
     "execution_count": 2,
     "metadata": {},
     "output_type": "execute_result"
    }
   ],
   "source": [
    "len(sold_bags)"
   ]
  },
  {
   "cell_type": "code",
   "execution_count": 3,
   "metadata": {},
   "outputs": [
    {
     "data": {
      "text/plain": [
       "<div class=\"tile col-x12 col-l6 col-s8 p--2\"><div class=\"card card--small\"><a class=\"tile__covershot\" data-et-element-type=\"image\" data-et-name=\"listing\" data-et-prop-category_id=\"00248975d97b4e80ef00a955\" data-et-prop-department_id=\"000e8975d97b4e80ef00a955\" data-et-prop-listing_id=\"5ee5554a691412f4cbbd5813\" data-et-prop-location=\"listing_tile\" data-et-prop-unit_position=\"0\" href=\"/listing/NWT-Tory-Burch-Ella-tote-navy-blue-5ee5554a691412f4cbbd5813\" target=\"\"><div class=\"img__container img__container--square\"><img alt=\"NWT Tory Burch Ella tote navy blue\" class=\"ovf--h\" src=\"https://di2ponv0v5otw.cloudfront.net/posts/2020/06/13/5ee5554a691412f4cbbd5813/s_5ee5560bd737fdc22df13b29.jpg\" title=\"\"/></div><!-- --><i class=\"icon tile__inventory-tag sold-out-tag\"><span class=\"inventory-tag__text\">\n",
       "    Sold Out\n",
       "  </span></i></a><div class=\"item__details\"><div class=\"title__condition__container\"><a class=\"tile__title tc--b\" data-et-element-type=\"link\" data-et-name=\"listing\" data-et-prop-category_id=\"00248975d97b4e80ef00a955\" data-et-prop-department_id=\"000e8975d97b4e80ef00a955\" data-et-prop-listing_id=\"5ee5554a691412f4cbbd5813\" data-et-prop-location=\"listing_tile\" data-et-prop-unit_position=\"0\" href=\"/listing/NWT-Tory-Burch-Ella-tote-navy-blue-5ee5554a691412f4cbbd5813\">\n",
       "          NWT Tory Burch Ella tote navy blue\n",
       "        </a><div class=\"d--fl ai--c m--l--1\"><!-- --><span class=\"condition-tag all-caps tr--uppercase condition-tag--small\">\n",
       "    NWT\n",
       "  </span></div></div><div><div class=\"m--t--1\"><span class=\"p--t--1 fw--bold\">\n",
       "            $179\n",
       "          </span><span class=\"p--l--1 tc--lg td--lt\">\n",
       "            $250\n",
       "          </span></div><div class=\"d--fl m--t--1\"><div class=\"tile__details__pipe__size ellipses\">\n",
       "            Size: Large\n",
       "          </div><a class=\"tile__details__pipe__brand ellipses\" data-et-element-type=\"link\" data-et-name=\"listing_brand\" data-et-prop-category_id=\"00248975d97b4e80ef00a955\" data-et-prop-department_id=\"000e8975d97b4e80ef00a955\" data-et-prop-listing_id=\"5ee5554a691412f4cbbd5813\" data-et-prop-location=\"listing_tile\" data-et-prop-unit_position=\"0\" href=\"/brand/Tory_Burch\" style=\"width:calc(100% - 12ch);\">\n",
       "            Tory Burch\n",
       "          </a></div></div></div><a class=\"tile__creator d--fl\" data-et-element-type=\"link\" data-et-name=\"seller\" data-et-prop-category_id=\"00248975d97b4e80ef00a955\" data-et-prop-department_id=\"000e8975d97b4e80ef00a955\" data-et-prop-listing_id=\"5ee5554a691412f4cbbd5813\" data-et-prop-location=\"listing_tile\" data-et-prop-unit_position=\"0\" href=\"/closet/tachic\"><img alt=\"tachic\" class=\"user-image user-image--xs\" src=\"https://di2ponv0v5otw.cloudfront.net/users/2019/01/05/5b99806c2d8a36dc45c35158/t_5c31776c74359ba9a071ee2f.jpg\"/><span class=\"tc--g m--l--1\">tachic</span></a><div class=\"social-action-bar tile__social-actions\"><div class=\"d--fl ai--c cursor--pointer social-action-bar__action social-action-bar__like\" data-et-element-type=\"button\" data-et-name=\"like\" data-et-prop-category_id=\"00248975d97b4e80ef00a955\" data-et-prop-department_id=\"000e8975d97b4e80ef00a955\" data-et-prop-lister_id=\"5b99806c2d8a36dc45c35158\" data-et-prop-listing_id=\"5ee5554a691412f4cbbd5813\" data-et-prop-unit_position=\"0\"><i class=\"icon as--c like btn__icon\"></i><!-- --><span>195</span></div><div class=\"d--fl ai--c jc--sb\"><a class=\"social-action-bar__action social-action-bar__comment\" data-et-element-type=\"button\" data-et-name=\"comment\" data-et-prop-category_id=\"00248975d97b4e80ef00a955\" data-et-prop-department_id=\"000e8975d97b4e80ef00a955\" data-et-prop-lister_id=\"5b99806c2d8a36dc45c35158\" data-et-prop-listing_id=\"5ee5554a691412f4cbbd5813\" data-et-prop-unit_position=\"0\"><i class=\"icon comment-gray btn__icon\"></i><span>8</span></a><!-- --></div><div class=\"d--fl ai--c social-action-bar__action social-action-bar__share\" data-et-element-type=\"button\" data-et-name=\"share\" data-et-prop-category_id=\"00248975d97b4e80ef00a955\" data-et-prop-department_id=\"000e8975d97b4e80ef00a955\" data-et-prop-lister_id=\"5b99806c2d8a36dc45c35158\" data-et-prop-listing_id=\"5ee5554a691412f4cbbd5813\" data-et-prop-unit_position=\"0\"><i class=\"icon share-gray-large\"></i><!-- --></div></div></div></div>"
      ]
     },
     "execution_count": 3,
     "metadata": {},
     "output_type": "execute_result"
    }
   ],
   "source": [
    "sold_bags[0]"
   ]
  },
  {
   "cell_type": "code",
   "execution_count": 5,
   "metadata": {},
   "outputs": [],
   "source": [
    "titles = [a.find('a', {'class': 'tile__title tc--b'}).text for a in sold_bags]"
   ]
  },
  {
   "cell_type": "code",
   "execution_count": 6,
   "metadata": {},
   "outputs": [
    {
     "data": {
      "text/plain": [
       "48"
      ]
     },
     "execution_count": 6,
     "metadata": {},
     "output_type": "execute_result"
    }
   ],
   "source": [
    "len(titles)"
   ]
  },
  {
   "cell_type": "code",
   "execution_count": 7,
   "metadata": {},
   "outputs": [
    {
     "data": {
      "text/plain": [
       "'\\n          NWT Tory Burch Ella tote navy blue\\n        '"
      ]
     },
     "execution_count": 7,
     "metadata": {},
     "output_type": "execute_result"
    }
   ],
   "source": [
    "titles[0]"
   ]
  },
  {
   "cell_type": "code",
   "execution_count": 8,
   "metadata": {},
   "outputs": [],
   "source": [
    "prices = [a.find('span', {'class': 'p--t--1 fw--bold'}).text for a in sold_bags]"
   ]
  },
  {
   "cell_type": "code",
   "execution_count": 9,
   "metadata": {},
   "outputs": [
    {
     "data": {
      "text/plain": [
       "48"
      ]
     },
     "execution_count": 9,
     "metadata": {},
     "output_type": "execute_result"
    }
   ],
   "source": [
    "len(prices)"
   ]
  },
  {
   "cell_type": "code",
   "execution_count": 10,
   "metadata": {},
   "outputs": [
    {
     "data": {
      "text/plain": [
       "'\\n            $179\\n          '"
      ]
     },
     "execution_count": 10,
     "metadata": {},
     "output_type": "execute_result"
    }
   ],
   "source": [
    "prices[0]"
   ]
  },
  {
   "cell_type": "code",
   "execution_count": 13,
   "metadata": {},
   "outputs": [],
   "source": [
    "brands = [soup.find('a', {'class': 'tile__details__pipe__brand ellipses'}).text for a in sold_bags]"
   ]
  },
  {
   "cell_type": "code",
   "execution_count": 14,
   "metadata": {},
   "outputs": [
    {
     "data": {
      "text/plain": [
       "'\\n            Tory Burch\\n          '"
      ]
     },
     "execution_count": 14,
     "metadata": {},
     "output_type": "execute_result"
    }
   ],
   "source": [
    "brands[0]"
   ]
  },
  {
   "cell_type": "code",
   "execution_count": null,
   "metadata": {},
   "outputs": [],
   "source": []
  }
 ],
 "metadata": {
  "kernelspec": {
   "display_name": "Python 3",
   "language": "python",
   "name": "python3"
  },
  "language_info": {
   "codemirror_mode": {
    "name": "ipython",
    "version": 3
   },
   "file_extension": ".py",
   "mimetype": "text/x-python",
   "name": "python",
   "nbconvert_exporter": "python",
   "pygments_lexer": "ipython3",
   "version": "3.6.9"
  }
 },
 "nbformat": 4,
 "nbformat_minor": 4
}
