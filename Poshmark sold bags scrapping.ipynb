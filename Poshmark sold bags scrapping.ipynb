{
 "cells": [
  {
   "cell_type": "code",
   "execution_count": 1,
   "metadata": {},
   "outputs": [],
   "source": [
    "import requests\n",
    "from bs4 import BeautifulSoup\n",
    "import pandas as pd\n",
    "url = 'https://poshmark.com/category/Women-Bags?availability=sold_out&condition=nwt_and_ret'\n",
    "soup = BeautifulSoup(requests.get(url).text)\n",
    "\n",
    "\n",
    "sold_bags = soup.findAll('div', {'class':\"tile col-x12 col-l6 col-s8 p--2\"})"
   ]
  },
  {
   "cell_type": "code",
   "execution_count": 2,
   "metadata": {},
   "outputs": [
    {
     "data": {
      "text/plain": [
       "48"
      ]
     },
     "execution_count": 2,
     "metadata": {},
     "output_type": "execute_result"
    }
   ],
   "source": [
    "len(sold_bags)"
   ]
  },
  {
   "cell_type": "code",
   "execution_count": 4,
   "metadata": {},
   "outputs": [
    {
     "data": {
      "text/plain": [
       "<div class=\"tile col-x12 col-l6 col-s8 p--2\"><div class=\"card card--small\"><a class=\"tile__covershot\" data-et-element-type=\"image\" data-et-name=\"listing\" data-et-prop-category_id=\"00248975d97b4e80ef00a955\" data-et-prop-department_id=\"000e8975d97b4e80ef00a955\" data-et-prop-listing_id=\"604fc0a309d760be0ff229d5\" data-et-prop-location=\"listing_tile\" data-et-prop-unit_position=\"0\" href=\"/listing/NWT-Rebecca-Rifka-pink-wristlet-604fc0a309d760be0ff229d5\" target=\"\"><div class=\"img__container img__container--square\"><img alt=\"*NWT* 💥 Rebecca &amp; Rifka pink wristlet💥\" class=\"ovf--h\" src=\"https://di2ponv0v5otw.cloudfront.net/posts/2021/03/15/604fc0a309d760be0ff229d5/s_604fc16869141241b57beec4.jpg\" title=\"\"/></div><!-- --><i class=\"icon tile__inventory-tag sold-tag\"><span class=\"inventory-tag__text\">\n",
       "    Sold\n",
       "  </span></i></a><div class=\"item__details\"><div class=\"title__condition__container\"><a class=\"tile__title tc--b\" data-et-element-type=\"link\" data-et-name=\"listing\" data-et-prop-category_id=\"00248975d97b4e80ef00a955\" data-et-prop-department_id=\"000e8975d97b4e80ef00a955\" data-et-prop-listing_id=\"604fc0a309d760be0ff229d5\" data-et-prop-location=\"listing_tile\" data-et-prop-unit_position=\"0\" href=\"/listing/NWT-Rebecca-Rifka-pink-wristlet-604fc0a309d760be0ff229d5\">\n",
       "          *NWT* 💥 Rebecca &amp; Rifka pink wristlet💥\n",
       "        </a><div class=\"d--fl ai--c m--l--1\"><!-- --><span class=\"condition-tag all-caps tr--uppercase condition-tag--small\">\n",
       "    NWT\n",
       "  </span></div></div><div><div class=\"m--t--1\"><span class=\"p--t--1 fw--bold\">\n",
       "            $25\n",
       "          </span><span class=\"p--l--1 tc--lg td--lt\">\n",
       "            $0\n",
       "          </span></div><div class=\"d--fl m--t--1\"><a class=\"tile__details__pipe__size ellipses\" data-et-element-type=\"link\" data-et-name=\"listing\" data-et-prop-category_id=\"00248975d97b4e80ef00a955\" data-et-prop-department_id=\"000e8975d97b4e80ef00a955\" data-et-prop-listing_id=\"604fc0a309d760be0ff229d5\" data-et-prop-location=\"listing_tile\" data-et-prop-unit_position=\"0\" href=\"/category/Women-Bags?size=OS\">\n",
       "            Size: OS\n",
       "          </a><a class=\"tile__details__pipe__brand ellipses\" data-et-element-type=\"link\" data-et-name=\"listing_brand\" data-et-prop-category_id=\"00248975d97b4e80ef00a955\" data-et-prop-department_id=\"000e8975d97b4e80ef00a955\" data-et-prop-listing_id=\"604fc0a309d760be0ff229d5\" data-et-prop-location=\"listing_tile\" data-et-prop-unit_position=\"0\" href=\"/brand/Rebecca%20&amp;%20Rifka\" style=\"width:calc(100% - 9ch);\">\n",
       "            Rebecca &amp; Rifka\n",
       "          </a></div></div></div><a class=\"tile__creator d--fl\" data-et-element-type=\"link\" data-et-name=\"seller\" data-et-prop-category_id=\"00248975d97b4e80ef00a955\" data-et-prop-department_id=\"000e8975d97b4e80ef00a955\" data-et-prop-listing_id=\"604fc0a309d760be0ff229d5\" data-et-prop-location=\"listing_tile\" data-et-prop-unit_position=\"0\" href=\"/closet/elegant_goddess\"><img alt=\"elegant_goddess\" class=\"user-image user-image--xs\" src=\"https://di2ponv0v5otw.cloudfront.net/users/2021/01/03/9/t_5ff2050dafe96b6a8c20e45f.jpg\"/><span class=\"tc--g m--l--1\">elegant_goddess</span></a><div class=\"social-action-bar tile__social-actions\"><div class=\"d--fl ai--c cursor--pointer social-action-bar__action social-action-bar__like\" data-et-element-type=\"button\" data-et-name=\"like\" data-et-prop-category_id=\"00248975d97b4e80ef00a955\" data-et-prop-department_id=\"000e8975d97b4e80ef00a955\" data-et-prop-lister_id=\"5d45fd343072eef37d5c5953\" data-et-prop-listing_id=\"604fc0a309d760be0ff229d5\" data-et-prop-unit_position=\"0\"><i class=\"icon as--c like btn__icon\"></i><!-- --><span>6</span></div><div class=\"d--fl ai--c jc--sb\"><a class=\"social-action-bar__action social-action-bar__comment\" data-et-element-type=\"button\" data-et-name=\"comment\" data-et-prop-category_id=\"00248975d97b4e80ef00a955\" data-et-prop-department_id=\"000e8975d97b4e80ef00a955\" data-et-prop-lister_id=\"5d45fd343072eef37d5c5953\" data-et-prop-listing_id=\"604fc0a309d760be0ff229d5\" data-et-prop-unit_position=\"0\"><i class=\"icon comment-gray btn__icon\"></i><!-- --></a><!-- --></div><div class=\"d--fl ai--c social-action-bar__action social-action-bar__share\" data-et-element-type=\"button\" data-et-name=\"share\" data-et-prop-category_id=\"00248975d97b4e80ef00a955\" data-et-prop-department_id=\"000e8975d97b4e80ef00a955\" data-et-prop-lister_id=\"5d45fd343072eef37d5c5953\" data-et-prop-listing_id=\"604fc0a309d760be0ff229d5\" data-et-prop-unit_position=\"0\"><i class=\"icon share-gray-large\"></i><!-- --></div></div></div></div>"
      ]
     },
     "execution_count": 4,
     "metadata": {},
     "output_type": "execute_result"
    }
   ],
   "source": [
    "sold_bags[0]"
   ]
  },
  {
   "cell_type": "code",
   "execution_count": 5,
   "metadata": {},
   "outputs": [],
   "source": [
    "titles = [a.find('a', {'class': 'title__condition__container'}).text for a in sold_bags]"
   ]
  },
  {
   "cell_type": "code",
   "execution_count": 6,
   "metadata": {},
   "outputs": [
    {
     "data": {
      "text/plain": [
       "48"
      ]
     },
     "execution_count": 6,
     "metadata": {},
     "output_type": "execute_result"
    }
   ],
   "source": [
    "len(titles)"
   ]
  },
  {
   "cell_type": "code",
   "execution_count": 7,
   "metadata": {},
   "outputs": [
    {
     "data": {
      "text/plain": [
       "'\\n          *NWT* 💥 Rebecca & Rifka pink wristlet💥\\n        '"
      ]
     },
     "execution_count": 7,
     "metadata": {},
     "output_type": "execute_result"
    }
   ],
   "source": [
    "titles[0]"
   ]
  },
  {
   "cell_type": "code",
   "execution_count": 8,
   "metadata": {},
   "outputs": [],
   "source": [
    "prices = [a.find('span', {'class': 'p--t--1 fw--bold'}).text for a in sold_bags]"
   ]
  },
  {
   "cell_type": "code",
   "execution_count": 9,
   "metadata": {},
   "outputs": [
    {
     "data": {
      "text/plain": [
       "48"
      ]
     },
     "execution_count": 9,
     "metadata": {},
     "output_type": "execute_result"
    }
   ],
   "source": [
    "len(prices)"
   ]
  },
  {
   "cell_type": "code",
   "execution_count": 10,
   "metadata": {},
   "outputs": [
    {
     "data": {
      "text/plain": [
       "'\\n            $25\\n          '"
      ]
     },
     "execution_count": 10,
     "metadata": {},
     "output_type": "execute_result"
    }
   ],
   "source": [
    "prices[0]"
   ]
  },
  {
   "cell_type": "code",
   "execution_count": 11,
   "metadata": {},
   "outputs": [
    {
     "ename": "AttributeError",
     "evalue": "'NoneType' object has no attribute 'text'",
     "output_type": "error",
     "traceback": [
      "\u001b[1;31m---------------------------------------------------------------------------\u001b[0m",
      "\u001b[1;31mAttributeError\u001b[0m                            Traceback (most recent call last)",
      "\u001b[1;32m<ipython-input-11-148ae1ad6f25>\u001b[0m in \u001b[0;36m<module>\u001b[1;34m\u001b[0m\n\u001b[1;32m----> 1\u001b[1;33m \u001b[0mbrands\u001b[0m \u001b[1;33m=\u001b[0m \u001b[1;33m[\u001b[0m\u001b[0ma\u001b[0m\u001b[1;33m.\u001b[0m\u001b[0mfind\u001b[0m\u001b[1;33m(\u001b[0m\u001b[1;34m'a'\u001b[0m\u001b[1;33m,\u001b[0m \u001b[1;33m{\u001b[0m\u001b[1;34m'class'\u001b[0m\u001b[1;33m:\u001b[0m \u001b[1;34m'tile__details__pipe__brand ellipses'\u001b[0m\u001b[1;33m}\u001b[0m\u001b[1;33m)\u001b[0m\u001b[1;33m.\u001b[0m\u001b[0mtext\u001b[0m \u001b[1;32mfor\u001b[0m \u001b[0ma\u001b[0m \u001b[1;32min\u001b[0m \u001b[0msold_bags\u001b[0m\u001b[1;33m]\u001b[0m\u001b[1;33m\u001b[0m\u001b[1;33m\u001b[0m\u001b[0m\n\u001b[0m",
      "\u001b[1;32m<ipython-input-11-148ae1ad6f25>\u001b[0m in \u001b[0;36m<listcomp>\u001b[1;34m(.0)\u001b[0m\n\u001b[1;32m----> 1\u001b[1;33m \u001b[0mbrands\u001b[0m \u001b[1;33m=\u001b[0m \u001b[1;33m[\u001b[0m\u001b[0ma\u001b[0m\u001b[1;33m.\u001b[0m\u001b[0mfind\u001b[0m\u001b[1;33m(\u001b[0m\u001b[1;34m'a'\u001b[0m\u001b[1;33m,\u001b[0m \u001b[1;33m{\u001b[0m\u001b[1;34m'class'\u001b[0m\u001b[1;33m:\u001b[0m \u001b[1;34m'tile__details__pipe__brand ellipses'\u001b[0m\u001b[1;33m}\u001b[0m\u001b[1;33m)\u001b[0m\u001b[1;33m.\u001b[0m\u001b[0mtext\u001b[0m \u001b[1;32mfor\u001b[0m \u001b[0ma\u001b[0m \u001b[1;32min\u001b[0m \u001b[0msold_bags\u001b[0m\u001b[1;33m]\u001b[0m\u001b[1;33m\u001b[0m\u001b[1;33m\u001b[0m\u001b[0m\n\u001b[0m",
      "\u001b[1;31mAttributeError\u001b[0m: 'NoneType' object has no attribute 'text'"
     ]
    }
   ],
   "source": [
    "brands = [a.find('a', {'class': 'tile__details__pipe__brand ellipses'}).text for a in sold_bags]"
   ]
  },
  {
   "cell_type": "code",
   "execution_count": null,
   "metadata": {},
   "outputs": [],
   "source": []
  }
 ],
 "metadata": {
  "kernelspec": {
   "display_name": "Python 3",
   "language": "python",
   "name": "python3"
  },
  "language_info": {
   "codemirror_mode": {
    "name": "ipython",
    "version": 3
   },
   "file_extension": ".py",
   "mimetype": "text/x-python",
   "name": "python",
   "nbconvert_exporter": "python",
   "pygments_lexer": "ipython3",
   "version": "3.6.9"
  }
 },
 "nbformat": 4,
 "nbformat_minor": 4
}
